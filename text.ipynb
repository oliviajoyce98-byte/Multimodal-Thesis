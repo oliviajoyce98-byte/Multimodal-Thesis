{
 "cells": [
  {
   "cell_type": "code",
   "execution_count": null,
   "id": "7cf69dbc",
   "metadata": {},
   "outputs": [
    {
     "name": "stderr",
     "output_type": "stream",
     "text": [
      "c:\\Users\\ojoyc\\AppData\\Local\\Programs\\Python\\Python313\\Lib\\site-packages\\tqdm\\auto.py:21: TqdmWarning: IProgress not found. Please update jupyter and ipywidgets. See https://ipywidgets.readthedocs.io/en/stable/user_install.html\n",
      "  from .autonotebook import tqdm as notebook_tqdm\n"
     ]
    }
   ],
   "source": [
    "import pandas as pd\n",
    "import numpy as np\n",
    "import re\n",
    "import seaborn as sns\n",
    "import matplotlib.pyplot as plt\n",
    "\n",
    "#from sklearn.feature_extraction.text import CountVectorizer\n",
    "from sklearn.preprocessing import LabelEncoder\n",
    "from sklearn.feature_extraction.text import TfidfVectorizer\n",
    "\n",
    "from sklearn.model_selection import GridSearchCV\n",
    "\n",
    "from sklearn.ensemble import RandomForestClassifier\n",
    "from sklearn.linear_model import LogisticRegression\n",
    "from sklearn.metrics import classification_report\n",
    "\n",
    "from tensorflow.keras.models import Sequential\n",
    "from tensorflow.keras.layers import Dense, Dropout\n",
    "\n",
    "from transformers import pipeline"
   ]
  },
  {
   "cell_type": "code",
   "execution_count": 2,
   "id": "92652514",
   "metadata": {},
   "outputs": [
    {
     "name": "stdout",
     "output_type": "stream",
     "text": [
      "['neutral' 'surprise' 'fear' 'sadness' 'joy' 'disgust' 'anger']\n",
      "['neutral' 'positive' 'negative']\n"
     ]
    }
   ],
   "source": [
    "#Load datasets\n",
    "train_df = pd.read_csv(\"C:/Users/ojoyc/OneDrive/Documents/Repositories/Olivia_Joyce_Thesis/dataset/MELD-RAW/MELD.Raw/train_sent_emo.csv\")\n",
    "test_df = pd.read_csv(\"C:/Users/ojoyc/OneDrive/Documents/Repositories/Olivia_Joyce_Thesis/dataset/MELD-RAW/MELD.Raw/test_sent_emo.csv\")\n",
    "val_df = pd.read_csv(\"C:/Users/ojoyc/OneDrive/Documents/Repositories/Olivia_Joyce_Thesis/dataset/MELD-RAW/MELD.Raw/dev_sent_emo.csv\")\n",
    "\n",
    "#print(train_df.head())\n",
    "#print(train_df.info())\n",
    "#print(train_df.isnull().sum()) \n",
    "print(train_df['Emotion'].unique())\n",
    "print(train_df['Sentiment'].unique())"
   ]
  },
  {
   "cell_type": "markdown",
   "id": "6ca6d20e",
   "metadata": {},
   "source": [
    "Feature Extraction can be done using embeddings or vectorisation\n",
    "Bag of Words (below)\n",
    "TF-IDF\n",
    "or using pre-trained embeddings like BERT or GloVe for better performance\n",
    "\n",
    "Why is the below feature extraction?\n",
    "Tokenization: CountVectorizer splits (tokenizes) each text into words (tokens).\n",
    "Feature Extraction: It then creates a vocabulary of all unique tokens (words) found in the training data.\n",
    "For each text, it counts how many times each word from the vocabulary appears, creating a vector of word counts for each text.\n",
    "These vectors are numerical features that represent the original text data, making it possible to use them as input for machine learning models.\n",
    "The process transforms raw text into a structured, numerical format (feature vectors), \n",
    "fit_transform() (on training data):\n",
    "\n",
    "fit: Scans all the training texts, finds all unique tokens, and builds the vocabulary.\n",
    "transform: Converts the training texts into feature vectors using that vocabulary.\n",
    "vectorizer.transform() (on test/validation data):\n",
    "\n",
    "Uses the already built vocabulary from the training data to convert new texts into feature vectors.\n",
    "No new words are added to the vocabulary at this stage."
   ]
  },
  {
   "cell_type": "markdown",
   "id": "15276f82",
   "metadata": {},
   "source": [
    "**Bag of Words (CountVectorizer) vs. TF-IDF: Why use Bag of Words?**\n",
    "\n",
    "**Bag of Words (BoW)** simply counts how many times each word appears in a document.  \n",
    "**TF-IDF** (Term Frequency-Inverse Document Frequency) adjusts these counts by how common or rare a word is across all documents, down-weighting common words and up-weighting rare, informative words.\n",
    "\n",
    "### Reasons to use Bag of Words (BoW) over TF-IDF:\n",
    "- **Simplicity:** BoW is easier to understand and implement. It’s a good starting point for baseline models.\n",
    "- **Speed:** BoW is computationally faster, especially on large datasets.\n",
    "- **Interpretability:** The features (word counts) are more directly interpretable.\n",
    "- **When word frequency matters:** If the absolute frequency of words is important for your task (e.g., spam detection, where repeated words are a signal), BoW may be more effective.\n",
    "- **Small datasets:** On small datasets, TF-IDF can sometimes over-penalize common words, making BoW preferable.\n",
    "\n",
    "### When to prefer TF-IDF:\n",
    "- **When common words are not informative:** If your dataset contains many common words that don’t help distinguish between classes, TF-IDF helps reduce their impact.\n",
    "- **When rare words are important:** TF-IDF highlights rare but important words.\n",
    "\n",
    "**Summary:**  \n",
    "Bag of Words is often used for its simplicity, speed, and interpretability, especially as a baseline. TF-IDF is preferred when you want to reduce the influence of common words and highlight rare, informative words. The best choice depends on your dataset and task—often, both are tried and compared in practice."
   ]
  },
  {
   "cell_type": "code",
   "execution_count": 3,
   "id": "2d8b5d77",
   "metadata": {},
   "outputs": [
    {
     "name": "stdout",
     "output_type": "stream",
     "text": [
      "(9989, 5870)\n",
      "(2610, 5870)\n",
      "(1109, 5870)\n"
     ]
    }
   ],
   "source": [
    "# Function to clean text\n",
    "def clean_text(text):\n",
    "    text = re.sub(r\"[^a-zA-Z0-9\\s]\", \"\", text) # Remove special characters\n",
    "    text = text.lower() # Convert to lowercase\n",
    "    return text\n",
    "\n",
    "# Apply cleaning\n",
    "train_df = train_df.copy()\n",
    "train_df['Utterance'] = train_df['Utterance'].apply(clean_text)\n",
    "test_df['Utterance'] = test_df['Utterance'].apply(clean_text)\n",
    "val_df['Utterance'] = val_df['Utterance'].apply(clean_text)\n",
    "\n",
    "# Feature Extraction using TF-IDF\n",
    "#  fit the TfidfVectorizer only on training data then transform train, test, and validation data\n",
    "tfidf_vectorizer = TfidfVectorizer()\n",
    "X_train = tfidf_vectorizer.fit_transform(train_df['Utterance'])\n",
    "X_test = tfidf_vectorizer.transform(test_df['Utterance'])\n",
    "X_val = tfidf_vectorizer.transform(val_df['Utterance'])\n",
    "print(X_train.shape)\n",
    "print(X_test.shape)\n",
    "print(X_val.shape)\n",
    "\n",
    "# Encode Labels. Convert Categorical labels (Emotion and Sentiment) to numerical format\n",
    "# Fit the LabelEncoder on only training data then transform train, test, and validation data\n",
    "emotion_encoder = LabelEncoder()\n",
    "sentiment_encoder = LabelEncoder()\n",
    "\n",
    "y_train_emotion = emotion_encoder.fit_transform(train_df['Emotion'])\n",
    "y_train_sentiment = sentiment_encoder.fit_transform(train_df['Sentiment'])\n",
    "\n",
    "y_test_emotion = emotion_encoder.transform(test_df['Emotion'])\n",
    "y_test_sentiment = sentiment_encoder.transform(test_df['Sentiment'])\n",
    "y_val_emotion = emotion_encoder.transform(val_df['Emotion'])\n",
    "y_val_sentiment = sentiment_encoder.transform(val_df['Sentiment'])"
   ]
  },
  {
   "cell_type": "code",
   "execution_count": null,
   "id": "c57d2f9b",
   "metadata": {},
   "outputs": [
    {
     "name": "stdout",
     "output_type": "stream",
     "text": [
      "              precision    recall  f1-score   support\n",
      "\n",
      "       anger       0.39      0.06      0.11       345\n",
      "     disgust       0.40      0.03      0.05        68\n",
      "        fear       0.17      0.02      0.04        50\n",
      "         joy       0.54      0.19      0.28       402\n",
      "     neutral       0.53      0.93      0.68      1256\n",
      "     sadness       0.57      0.06      0.11       208\n",
      "    surprise       0.58      0.36      0.44       281\n",
      "\n",
      "    accuracy                           0.53      2610\n",
      "   macro avg       0.45      0.24      0.24      2610\n",
      "weighted avg       0.51      0.53      0.44      2610\n",
      "\n",
      "Sentiment Classification Report:\n",
      "              precision    recall  f1-score   support\n",
      "\n",
      "    negative       0.55      0.34      0.42       833\n",
      "     neutral       0.56      0.83      0.66      1256\n",
      "    positive       0.57      0.24      0.34       521\n",
      "\n",
      "    accuracy                           0.56      2610\n",
      "   macro avg       0.56      0.47      0.48      2610\n",
      "weighted avg       0.56      0.56      0.52      2610\n",
      "\n"
     ]
    }
   ],
   "source": [
    "#Train a ML model for emotion & sentiment classification \n",
    "# Train a Random Forest classifier\n",
    "emotion_model = RandomForestClassifier()\n",
    "emotion_model.fit(X_train, y_train_emotion)\n",
    "\n",
    "# Predict on the test set\n",
    "y_pred_emotion = emotion_model.predict(X_test)\n",
    "\n",
    "# Evaluate the model\n",
    "print(classification_report(y_test_emotion, y_pred_emotion, target_names=emotion_encoder.classes_))\n",
    "\n",
    "#Train a Random Forest classifier for sentiment classification\n",
    "sentiment_model = RandomForestClassifier()\n",
    "sentiment_model.fit(X_train, y_train_sentiment)\n",
    "\n",
    "# Predict on the test set\n",
    "y_pred_sentiment = sentiment_model.predict(X_test)\n",
    "\n",
    "# Evaluate the model\n",
    "print(\"Sentiment Classification Report:\")\n",
    "print(classification_report(y_test_sentiment, y_pred_sentiment, target_names=sentiment_encoder.classes_))"
   ]
  },
  {
   "cell_type": "markdown",
   "id": "54b43907",
   "metadata": {},
   "source": [
    "Next steps \n",
    "1. Optimise the model use hyperparameter tuning e.g. GridSearchCV to improve model performance\n",
    "2. experiment with more advanced models like BERT, RoBERTa or GPT for better performance. Use Hugging Face 'pipeline'\n",
    "-If you want even better performance, you can fine-tune these models on your dataset using Hugging Face’s Trainer API, but this requires more code and GPU resources.\n",
    "3. Incorporate Multi-Modality - add audio and visual features to the model for multi-modal emotion/sentiment recognition\n",
    "4. Evaluation on validation set\n"
   ]
  },
  {
   "cell_type": "code",
   "execution_count": 9,
   "id": "d6b70bc7",
   "metadata": {},
   "outputs": [
    {
     "name": "stdout",
     "output_type": "stream",
     "text": [
      "Best parameters: {'max_depth': None, 'min_samples_leaf': 1, 'min_samples_split': 5, 'n_estimators': 100}\n",
      "Validation Set Classification Report:\n",
      "              precision    recall  f1-score   support\n",
      "\n",
      "       anger       0.39      0.05      0.08       153\n",
      "     disgust       1.00      0.05      0.09        22\n",
      "        fear       1.00      0.03      0.05        40\n",
      "         joy       0.44      0.14      0.21       163\n",
      "     neutral       0.47      0.93      0.62       470\n",
      "     sadness       0.85      0.10      0.18       111\n",
      "    surprise       0.46      0.28      0.35       150\n",
      "\n",
      "    accuracy                           0.47      1109\n",
      "   macro avg       0.66      0.22      0.23      1109\n",
      "weighted avg       0.52      0.47      0.37      1109\n",
      "\n",
      "Test Set Classification Report:\n",
      "              precision    recall  f1-score   support\n",
      "\n",
      "       anger       0.42      0.06      0.10       345\n",
      "     disgust       0.40      0.03      0.05        68\n",
      "        fear       0.17      0.02      0.04        50\n",
      "         joy       0.57      0.18      0.27       402\n",
      "     neutral       0.53      0.94      0.68      1256\n",
      "     sadness       0.54      0.07      0.13       208\n",
      "    surprise       0.56      0.36      0.44       281\n",
      "\n",
      "    accuracy                           0.53      2610\n",
      "   macro avg       0.45      0.24      0.24      2610\n",
      "weighted avg       0.51      0.53      0.44      2610\n",
      "\n"
     ]
    }
   ],
   "source": [
    "from sklearn.model_selection import GridSearchCV\n",
    "\n",
    "# Define parameter grid\n",
    "param_grid = {\n",
    "    'n_estimators': [100, 200],\n",
    "    'max_depth': [None, 10, 20],\n",
    "    'min_samples_split': [2, 5],\n",
    "    'min_samples_leaf': [1, 2]\n",
    "}\n",
    "\n",
    "# Grid search for emotion classification\n",
    "grid_rf = GridSearchCV(RandomForestClassifier(), param_grid, cv=3, scoring='f1_weighted', n_jobs=-1)\n",
    "grid_rf.fit(X_train, y_train_emotion)\n",
    "\n",
    "print(\"Best parameters:\", grid_rf.best_params_)\n",
    "best_rf = grid_rf.best_estimator_\n",
    "\n",
    "# Predict and evaluate on validation set\n",
    "y_val_pred = best_rf.predict(X_val)\n",
    "print(\"Validation Set Classification Report:\")\n",
    "print(classification_report(y_val_emotion, y_val_pred, target_names=emotion_encoder.classes_))\n",
    "\n",
    "# (Optional) Predict and evaluate on test set after validation\n",
    "y_test_pred = best_rf.predict(X_test)\n",
    "print(\"Test Set Classification Report:\")\n",
    "print(classification_report(y_test_emotion, y_test_pred, target_names=emotion_encoder.classes_))"
   ]
  },
  {
   "cell_type": "code",
   "execution_count": 10,
   "id": "18dbc621",
   "metadata": {},
   "outputs": [
    {
     "name": "stdout",
     "output_type": "stream",
     "text": [
      "Logistic Regression Emotion Classification Report:\n",
      "              precision    recall  f1-score   support\n",
      "\n",
      "       anger       0.31      0.08      0.13       345\n",
      "     disgust       1.00      0.01      0.03        68\n",
      "        fear       0.67      0.04      0.08        50\n",
      "         joy       0.49      0.21      0.30       402\n",
      "     neutral       0.54      0.90      0.67      1256\n",
      "     sadness       0.47      0.09      0.15       208\n",
      "    surprise       0.51      0.38      0.43       281\n",
      "\n",
      "    accuracy                           0.52      2610\n",
      "   macro avg       0.57      0.24      0.25      2610\n",
      "weighted avg       0.51      0.52      0.45      2610\n",
      "\n",
      "Logistic Regression Sentiment Classification Report:\n",
      "              precision    recall  f1-score   support\n",
      "\n",
      "    negative       0.54      0.40      0.46       833\n",
      "     neutral       0.57      0.77      0.65      1256\n",
      "    positive       0.52      0.28      0.36       521\n",
      "\n",
      "    accuracy                           0.55      2610\n",
      "   macro avg       0.54      0.48      0.49      2610\n",
      "weighted avg       0.55      0.55      0.53      2610\n",
      "\n"
     ]
    }
   ],
   "source": [
    "from sklearn.linear_model import LogisticRegression\n",
    "\n",
    "# Train Logistic Regression for emotion classification\n",
    "logreg_emotion = LogisticRegression(max_iter=1000)\n",
    "logreg_emotion.fit(X_train, y_train_emotion)\n",
    "y_pred_emotion_lr = logreg_emotion.predict(X_test)\n",
    "print(\"Logistic Regression Emotion Classification Report:\")\n",
    "print(classification_report(y_test_emotion, y_pred_emotion_lr, target_names=emotion_encoder.classes_))\n",
    "\n",
    "# Train Logistic Regression for sentiment classification\n",
    "logreg_sentiment = LogisticRegression(max_iter=1000)\n",
    "logreg_sentiment.fit(X_train, y_train_sentiment)\n",
    "y_pred_sentiment_lr = logreg_sentiment.predict(X_test)\n",
    "print(\"Logistic Regression Sentiment Classification Report:\")\n",
    "print(classification_report(y_test_sentiment, y_pred_sentiment_lr, target_names=sentiment_encoder.classes_))"
   ]
  },
  {
   "cell_type": "code",
   "execution_count": 13,
   "id": "dea07c58",
   "metadata": {},
   "outputs": [
    {
     "name": "stderr",
     "output_type": "stream",
     "text": [
      "c:\\Users\\ojoyc\\AppData\\Local\\Programs\\Python\\Python313\\Lib\\site-packages\\keras\\src\\layers\\core\\dense.py:92: UserWarning: Do not pass an `input_shape`/`input_dim` argument to a layer. When using Sequential models, prefer using an `Input(shape)` object as the first layer in the model instead.\n",
      "  super().__init__(activity_regularizer=activity_regularizer, **kwargs)\n"
     ]
    },
    {
     "name": "stdout",
     "output_type": "stream",
     "text": [
      "Epoch 1/10\n",
      "\u001b[1m313/313\u001b[0m \u001b[32m━━━━━━━━━━━━━━━━━━━━\u001b[0m\u001b[37m\u001b[0m \u001b[1m6s\u001b[0m 11ms/step - accuracy: 0.4853 - loss: 1.4872 - val_accuracy: 0.4626 - val_loss: 1.4799\n",
      "Epoch 2/10\n",
      "\u001b[1m313/313\u001b[0m \u001b[32m━━━━━━━━━━━━━━━━━━━━\u001b[0m\u001b[37m\u001b[0m \u001b[1m4s\u001b[0m 11ms/step - accuracy: 0.5591 - loss: 1.2209 - val_accuracy: 0.4680 - val_loss: 1.4827\n",
      "Epoch 3/10\n",
      "\u001b[1m313/313\u001b[0m \u001b[32m━━━━━━━━━━━━━━━━━━━━\u001b[0m\u001b[37m\u001b[0m \u001b[1m3s\u001b[0m 10ms/step - accuracy: 0.6570 - loss: 0.9783 - val_accuracy: 0.4445 - val_loss: 1.5508\n",
      "Epoch 4/10\n",
      "\u001b[1m313/313\u001b[0m \u001b[32m━━━━━━━━━━━━━━━━━━━━\u001b[0m\u001b[37m\u001b[0m \u001b[1m5s\u001b[0m 15ms/step - accuracy: 0.7374 - loss: 0.7683 - val_accuracy: 0.4454 - val_loss: 1.6840\n",
      "Epoch 5/10\n",
      "\u001b[1m313/313\u001b[0m \u001b[32m━━━━━━━━━━━━━━━━━━━━\u001b[0m\u001b[37m\u001b[0m \u001b[1m7s\u001b[0m 20ms/step - accuracy: 0.7954 - loss: 0.6116 - val_accuracy: 0.4319 - val_loss: 1.8846\n",
      "Epoch 6/10\n",
      "\u001b[1m313/313\u001b[0m \u001b[32m━━━━━━━━━━━━━━━━━━━━\u001b[0m\u001b[37m\u001b[0m \u001b[1m7s\u001b[0m 21ms/step - accuracy: 0.8326 - loss: 0.4964 - val_accuracy: 0.4292 - val_loss: 1.9782\n",
      "Epoch 7/10\n",
      "\u001b[1m313/313\u001b[0m \u001b[32m━━━━━━━━━━━━━━━━━━━━\u001b[0m\u001b[37m\u001b[0m \u001b[1m6s\u001b[0m 19ms/step - accuracy: 0.8611 - loss: 0.4199 - val_accuracy: 0.4364 - val_loss: 2.1637\n",
      "Epoch 8/10\n",
      "\u001b[1m313/313\u001b[0m \u001b[32m━━━━━━━━━━━━━━━━━━━━\u001b[0m\u001b[37m\u001b[0m \u001b[1m7s\u001b[0m 22ms/step - accuracy: 0.8775 - loss: 0.3671 - val_accuracy: 0.4229 - val_loss: 2.2211\n",
      "Epoch 9/10\n",
      "\u001b[1m313/313\u001b[0m \u001b[32m━━━━━━━━━━━━━━━━━━━━\u001b[0m\u001b[37m\u001b[0m \u001b[1m7s\u001b[0m 23ms/step - accuracy: 0.8908 - loss: 0.3245 - val_accuracy: 0.4220 - val_loss: 2.3801\n",
      "Epoch 10/10\n",
      "\u001b[1m313/313\u001b[0m \u001b[32m━━━━━━━━━━━━━━━━━━━━\u001b[0m\u001b[37m\u001b[0m \u001b[1m8s\u001b[0m 24ms/step - accuracy: 0.9009 - loss: 0.2923 - val_accuracy: 0.4509 - val_loss: 2.4832\n",
      "\u001b[1m82/82\u001b[0m \u001b[32m━━━━━━━━━━━━━━━━━━━━\u001b[0m\u001b[37m\u001b[0m \u001b[1m1s\u001b[0m 8ms/step - accuracy: 0.4770 - loss: 2.3558\n",
      "Test accuracy: 0.48\n"
     ]
    }
   ],
   "source": [
    "from tensorflow.keras.models import Sequential\n",
    "from tensorflow.keras.layers import Dense, Dropout\n",
    "\n",
    "# Example: Simple feedforward neural network for emotion classification\n",
    "model = Sequential([\n",
    "    Dense(256, activation='relu', input_shape=(X_train.shape[1],)),\n",
    "    Dropout(0.3),\n",
    "    Dense(128, activation='relu'),\n",
    "    Dropout(0.3),\n",
    "    Dense(len(emotion_encoder.classes_), activation='softmax')\n",
    "])\n",
    "\n",
    "model.compile(optimizer='adam', loss='sparse_categorical_crossentropy', metrics=['accuracy'])\n",
    "model.fit(X_train.toarray(), y_train_emotion, epochs=10, batch_size=32, validation_data=(X_val.toarray(), y_val_emotion))\n",
    "\n",
    "# Evaluate\n",
    "loss, acc = model.evaluate(X_test.toarray(), y_test_emotion)\n",
    "print(f\"Test accuracy: {acc:.2f}\")"
   ]
  },
  {
   "cell_type": "code",
   "execution_count": 8,
   "id": "911d568b",
   "metadata": {},
   "outputs": [
    {
     "data": {
      "image/png": "[encoded data removed]",
      "text/plain": [
       "<Figure size 640x480 with 1 Axes>"
      ]
     },
     "metadata": {},
     "output_type": "display_data"
    },
    {
     "data": {
      "image/png": "[encoded data removed]",
      "text/plain": [
       "<Figure size 640x480 with 1 Axes>"
      ]
     },
     "metadata": {},
     "output_type": "display_data"
    }
   ],
   "source": [
    "sns.countplot(data=train_df, x='Emotion')\n",
    "plt.title(\"Emotion Distribution\")\n",
    "plt.show()\n",
    "\n",
    "sns.countplot(data=train_df, x='Sentiment')\n",
    "plt.title(\"Sentiment Distribution\")\n",
    "plt.show()"
   ]
  },
  {
   "cell_type": "markdown",
   "id": "0927ad73",
   "metadata": {},
   "source": [
    "Below uses the pretrained text model BERT for emotion and sentiment classification. \n",
    "Use CLIP or Flamingo for multi-modal"
   ]
  },
  {
   "cell_type": "code",
   "execution_count": null,
   "id": "2f7963c9",
   "metadata": {},
   "outputs": [
    {
     "name": "stderr",
     "output_type": "stream",
     "text": [
      "c:\\Users\\ojoyc\\AppData\\Local\\Programs\\Python\\Python313\\Lib\\site-packages\\tqdm\\auto.py:21: TqdmWarning: IProgress not found. Please update jupyter and ipywidgets. See https://ipywidgets.readthedocs.io/en/stable/user_install.html\n",
      "  from .autonotebook import tqdm as notebook_tqdm\n"
     ]
    },
    {
     "name": "stdout",
     "output_type": "stream",
     "text": [
      "WARNING:tensorflow:From c:\\Users\\ojoyc\\AppData\\Local\\Programs\\Python\\Python313\\Lib\\site-packages\\tf_keras\\src\\losses.py:2976: The name tf.losses.sparse_softmax_cross_entropy is deprecated. Please use tf.compat.v1.losses.sparse_softmax_cross_entropy instead.\n",
      "\n"
     ]
    },
    {
     "name": "stderr",
     "output_type": "stream",
     "text": [
      "Device set to use cpu\n",
      "Device set to use cpu\n"
     ]
    }
   ],
   "source": [
    "from transformers import pipeline\n",
    "\n",
    "# Load a pre-trained sentiment analysis pipeline\n",
    "# Emotion classification with BERT\n",
    "emotion_pipeline = pipeline(\"text-classification\", model=\"bhadresh-savani/bert-base-uncased-emotion\")\n",
    "# Sentiment classification with DistilBERT \n",
    "sentiment_pipeline = pipeline(\"text-classification\", model=\"distilbert-base-uncased-finetuned-sst-2-english\")\n",
    "# Sentiment classification with RoBERTa\n",
    "sentiment_pipeline2 = pipeline(\"text-classification\", model=\"cardiffnlp/twitter-roberta-base-sentiment-latest\")"
   ]
  },
  {
   "cell_type": "code",
   "execution_count": 5,
   "id": "b212e02e",
   "metadata": {},
   "outputs": [
    {
     "name": "stdout",
     "output_type": "stream",
     "text": [
      "Text: why do all youre coffee mugs have numbers on the bottom\n",
      "Predicted Emotion: [{'label': 'anger', 'score': 0.8396331071853638}]\n",
      "Predicted Sentiment: [{'label': 'NEGATIVE', 'score': 0.9980782270431519}]\n",
      "--------------------------------------------------\n",
      "Text: oh thats so monica can keep track that way if one on them is missing she can be like wheres number 27\n",
      "Predicted Emotion: [{'label': 'sadness', 'score': 0.9964519739151001}]\n",
      "Predicted Sentiment: [{'label': 'NEGATIVE', 'score': 0.9966804385185242}]\n",
      "--------------------------------------------------\n",
      "Text: yknow what\n",
      "Predicted Emotion: [{'label': 'anger', 'score': 0.8144062757492065}]\n",
      "Predicted Sentiment: [{'label': 'POSITIVE', 'score': 0.5339961647987366}]\n",
      "--------------------------------------------------\n",
      "Text: come on lydia you can do it\n",
      "Predicted Emotion: [{'label': 'joy', 'score': 0.9449968934059143}]\n",
      "Predicted Sentiment: [{'label': 'POSITIVE', 'score': 0.999315619468689}]\n",
      "--------------------------------------------------\n",
      "Text: push\n",
      "Predicted Emotion: [{'label': 'anger', 'score': 0.5262885689735413}]\n",
      "Predicted Sentiment: [{'label': 'NEGATIVE', 'score': 0.9842779040336609}]\n",
      "--------------------------------------------------\n"
     ]
    }
   ],
   "source": [
    "# Test emotion and sentiment prediction on actual texts from your test set\n",
    "sample_texts = test_df['Utterance'].head(5)  # Change 5 to any number of samples you want to test\n",
    "\n",
    "for text in sample_texts:\n",
    "    emotion_result = emotion_pipeline(text)\n",
    "    sentiment_result = sentiment_pipeline(text)\n",
    "    print(f\"Text: {text}\")\n",
    "    print(\"Predicted Emotion:\", emotion_result)\n",
    "    print(\"Predicted Sentiment:\", sentiment_result)\n",
    "    print(\"-\" * 50)"
   ]
  },
  {
   "cell_type": "code",
   "execution_count": null,
   "id": "0a1b7b9c",
   "metadata": {},
   "outputs": [],
   "source": [
    "# emotion_result = emotion_pipeline(example_text)\n",
    "# sentiment_result = sentiment_pipeline(example_text)\n",
    "# print(\"Emotion:\", emotion_result)\n",
    "# print(\"Sentiment:\", sentiment_result)"
   ]
  }
 ],
 "metadata": {
  "kernelspec": {
   "display_name": "Python 3",
   "language": "python",
   "name": "python3"
  },
  "language_info": {
   "codemirror_mode": {
    "name": "ipython",
    "version": 3
   },
   "file_extension": ".py",
   "mimetype": "text/x-python",
   "name": "python",
   "nbconvert_exporter": "python",
   "pygments_lexer": "ipython3",
   "version": "3.13.7"
  }
 },
 "nbformat": 4,
 "nbformat_minor": 5
}
